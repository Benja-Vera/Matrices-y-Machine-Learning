{
 "cells": [
  {
   "cell_type": "markdown",
   "metadata": {},
   "source": [
    "# Graficar en Python\n",
    "\n",
    "*Matrices y Machine Learning*\n",
    "\n",
    "## 1. Introducción a Matplotlib"
   ]
  },
  {
   "cell_type": "code",
   "execution_count": 24,
   "metadata": {},
   "outputs": [],
   "source": [
    "from matplotlib import pyplot as plt"
   ]
  },
  {
   "cell_type": "markdown",
   "metadata": {},
   "source": [
    "Como primer ejemplo, grafiquemos la función $f(x) = x^2$ para $x \\in [0, 1]$. Para esto, creamos dos listas, una con los valores de $x$, y la otra con los valores correspondientes en el eje $y$. Para crear la lista de $x$, lo que querríamos es una lista con valores equiespaciados entre $0$ y $1$. Desarrollemos esto matemáticamente:\n",
    "\n",
    "La idea es crear puntos $\\{x_i\\}_{i=0}^n$ de tal modo que\n",
    "\n",
    "$$0 = x_0 < x_1 < \\dots x_n = 1$$\n",
    "\n",
    "Y que además estos puntos dividan el intervlo en $n$ partes iguales. Nótese que para esto se necesitan $n+1$ puntos y por ello los estamos etiquetando desde el 0.\n",
    "\n",
    "Si vamos a dividir en $n$ partes iguales, cada una de ellas debe ser de largo $1/n$ y por lo tanto observamos que podemos obtener los puntos como:\n",
    "\n",
    "- $x_0 = 0$\n",
    "- $x_1 = 0 + 1/n = 1/n$\n",
    "- $x_2 = x_1 + 1/n = 1/n + 1/n = 2/n$\n",
    "- $x_3 = x_2 + 1/n = 2/n + 1/n = 3/n$\n",
    "\n",
    "Y así sucesivamente. En general, obtenemos entonces la fórmula $x_i = i/n$. Esto para $i = 0, 1, \\dots n$. Nótese que esto calza bien ya que se cumple que $x_n = n/n = 1$, como debería ser.\n",
    "\n",
    "Podemos entonces implementar esta fórmula si partimos de una lista vacía como en el código siguiente:"
   ]
  },
  {
   "cell_type": "code",
   "execution_count": 25,
   "metadata": {},
   "outputs": [
    {
     "name": "stdout",
     "output_type": "stream",
     "text": [
      "[0.0, 0.1, 0.2, 0.3, 0.4, 0.5, 0.6, 0.7, 0.8, 0.9, 1.0]\n"
     ]
    }
   ],
   "source": [
    "n = 10  # fijamos n como ejemplo\n",
    "X = []\n",
    "for i in range(n+1):  # La función range(k) va desde 0 hasta k-1, por lo que debemos hacer n+1 para que pare en n\n",
    "    X.append(i/n)\n",
    "print(X)"
   ]
  },
  {
   "cell_type": "markdown",
   "metadata": {},
   "source": [
    "O bien podemos hacer esta misma implementación más concisamente utilizando [listas por comprensión](https://www.w3schools.com/python/python_lists_comprehension.asp):"
   ]
  },
  {
   "cell_type": "code",
   "execution_count": 26,
   "metadata": {},
   "outputs": [
    {
     "name": "stdout",
     "output_type": "stream",
     "text": [
      "[0.0, 0.1, 0.2, 0.3, 0.4, 0.5, 0.6, 0.7, 0.8, 0.9, 1.0]\n"
     ]
    }
   ],
   "source": [
    "X = [i/n for i in range(n+1)]\n",
    "print(X)"
   ]
  },
  {
   "cell_type": "markdown",
   "metadata": {},
   "source": [
    "**Ejercicio propuesto:**\n",
    "\n",
    "Rehacer lo que ya se hizo en $[0, 1]$ para ver que en general, para hacer una lista de $n+1$ puntos equiespaciados en el intervalo $[a, b]$ tales que $a = x_0 < x_1 < \\dots < x_n = b$, se debe tener que\n",
    "$$x_i = a + i \\frac{b-a}{n}$$\n",
    "Implementar esta fórmula dentro de una función `lista_equiespeciada(a, b, n)` que reciba los extremos, así como el número de partes en las que dividir el intervalo, y retorne la lista con los $n+1$ puntos."
   ]
  },
  {
   "cell_type": "code",
   "execution_count": 27,
   "metadata": {},
   "outputs": [],
   "source": [
    "def lista_equiespeciada(a, b, n):\n",
    "    \"\"\"Genera una lista que divide el intervalo [a, b] en n partes iguales\n",
    "\n",
    "    Args:\n",
    "        a (float): extremo izquierdo del intervalo\n",
    "        b (float): extremo derecho del intervalo\n",
    "        n (int): número de partes en las que dividir el intervalo\n",
    "\n",
    "    Returns:\n",
    "        list: lista ordenada con los puntos equiespaciados\n",
    "    \"\"\"\n",
    "    assert n != 0, \"No se puede dividir por 0!\"\n",
    "    assert a < b, \"Extremos inválidos, verificar\"\n",
    "\n",
    "\n",
    "    L = None  # Reemplazar None por tu código\n",
    "\n",
    "\n",
    "    return L"
   ]
  },
  {
   "cell_type": "markdown",
   "metadata": {},
   "source": [
    "Por supuesto, no somos las primeras personas del mundo en necesitar una lista equiespaciada de puntos. Por lo que esta y muchas otras funcionalidades vagamente matemáticas han sido incorporadas a `python` como parte de la librería `numpy`. En particular, nos interesa la función `linspace`, que proviene de _linearly spaced_, para retornar puntos linealmente especiados. Esta será la función que en adelante utilizaremos para este propósito."
   ]
  },
  {
   "cell_type": "code",
   "execution_count": 28,
   "metadata": {},
   "outputs": [
    {
     "name": "stdout",
     "output_type": "stream",
     "text": [
      "[0.  0.1 0.2 0.3 0.4 0.5 0.6 0.7 0.8 0.9 1. ]\n"
     ]
    }
   ],
   "source": [
    "import numpy as np\n",
    "\n",
    "X = np.linspace(0, 1, 11)  # Notar que acá se debe escribir el $n+1$ para obtener los mismos resultados en lugar del n.\n",
    "                           # Para muchos de nuestros propósitos, esta distinción no importa.\n",
    "print(X)"
   ]
  },
  {
   "cell_type": "markdown",
   "metadata": {},
   "source": [
    "Notar que el tipo de dato es una clase nativa de `numpy`, en lugar de una lista común y corriente"
   ]
  },
  {
   "cell_type": "code",
   "execution_count": 29,
   "metadata": {},
   "outputs": [
    {
     "data": {
      "text/plain": [
       "numpy.ndarray"
      ]
     },
     "execution_count": 29,
     "metadata": {},
     "output_type": "execute_result"
    }
   ],
   "source": [
    "type(X)"
   ]
  },
  {
   "cell_type": "markdown",
   "metadata": {},
   "source": [
    "Esto es debido a que las listas (o _arreglos_) de `numpy` tienen varias ventajas por sobre las listas normales de `python`, que logran un mejor rendimiento en la práctica al tomar ventaja de que cosas como que\n",
    "- El tipo de datos que puede contener una lista de `numpy` es uno solo, en lugar de las listas de python que pueden ser como `L = [1, 0.2, \"hola\"]`. Esto es flexible, pero no funciona muy bien para propósitos númericos.\n",
    "- Las listas de numpy no pueden cambiar de longitud fácilmente ni agregar elementos luego de crearlas. Cosa que sí se puede hacer con listas de python mediante el método `L.append()`, usado al principio de este notebook. Esto significa que el computador sabe desde el inicio la memoria que necesitará y puede optimizar operaciones de bajo nivel en base a ello.\n",
    "\n",
    "Por cosas como estas, algo muy cool que se puede hacer con listas de `numpy` es operaciones punto a punto."
   ]
  },
  {
   "cell_type": "code",
   "execution_count": 30,
   "metadata": {},
   "outputs": [
    {
     "data": {
      "text/plain": [
       "array([1., 2., 3., 4.])"
      ]
     },
     "execution_count": 30,
     "metadata": {},
     "output_type": "execute_result"
    }
   ],
   "source": [
    "M = np.array([1, 2, 3, 4], dtype=float)\n",
    "# Nota: En este ejemplo, estoy especificando desde el principio que la lista de numpy M va a contener floats\n",
    "# aunque le esté pasando solo enteros al momento de crearla\n",
    "M"
   ]
  },
  {
   "cell_type": "code",
   "execution_count": 31,
   "metadata": {},
   "outputs": [
    {
     "data": {
      "text/plain": [
       "array([2., 4., 6., 8.])"
      ]
     },
     "execution_count": 31,
     "metadata": {},
     "output_type": "execute_result"
    }
   ],
   "source": [
    "2*M"
   ]
  },
  {
   "cell_type": "code",
   "execution_count": 32,
   "metadata": {},
   "outputs": [
    {
     "data": {
      "text/plain": [
       "array([2., 3., 4., 5.])"
      ]
     },
     "execution_count": 32,
     "metadata": {},
     "output_type": "execute_result"
    }
   ],
   "source": [
    "M + 1"
   ]
  },
  {
   "cell_type": "code",
   "execution_count": 33,
   "metadata": {},
   "outputs": [
    {
     "data": {
      "text/plain": [
       "array([ 1.,  4.,  9., 16.])"
      ]
     },
     "execution_count": 33,
     "metadata": {},
     "output_type": "execute_result"
    }
   ],
   "source": [
    "M ** 2  # Cuadrado"
   ]
  },
  {
   "cell_type": "code",
   "execution_count": 34,
   "metadata": {},
   "outputs": [
    {
     "data": {
      "text/plain": [
       "array([0.5, 1. , 1.5, 2. ])"
      ]
     },
     "execution_count": 34,
     "metadata": {},
     "output_type": "execute_result"
    }
   ],
   "source": [
    "M / 2"
   ]
  },
  {
   "cell_type": "markdown",
   "metadata": {},
   "source": [
    "Y esto es muy útil para nuestro propósito original de graficar la función $f(x) = x^2$ en $x \\in [0, 1]$, ya que podemos hacer lo siguiente:"
   ]
  },
  {
   "cell_type": "code",
   "execution_count": 35,
   "metadata": {},
   "outputs": [],
   "source": [
    "n = 20\n",
    "X = np.linspace(0, 1, n)\n",
    "Y = X ** 2"
   ]
  },
  {
   "cell_type": "markdown",
   "metadata": {},
   "source": [
    "Ahora tenemos dos listas, una con nuestros valores de $x$ y otra para sus correspondientes valores de $y$. Las podemos graficar usando `matplotlib` con la siguiente linea de código:"
   ]
  },
  {
   "cell_type": "code",
   "execution_count": null,
   "metadata": {},
   "outputs": [
    {
     "data": {
      "text/plain": [
       "[<matplotlib.lines.Line2D at 0x22c7e78e990>]"
      ]
     },
     "execution_count": 36,
     "metadata": {},
     "output_type": "execute_result"
    },
    {
     "data": {
      "image/png": "[encoded data removed]",
      "text/plain": [
       "<Figure size 640x480 with 1 Axes>"
      ]
     },
     "metadata": {},
     "output_type": "display_data"
    }
   ],
   "source": [
    "plt.plot(X, Y)"
   ]
  },
  {
   "cell_type": "markdown",
   "metadata": {},
   "source": [
    "Aquí, la librería está viendo los puntos que tenemos y conectándolos por líneas, pero si queremos ser más sinceros con respecto a los datos que realmente tenemos de la función, podemos suprimir este comportamiento y solo graficar los puntos de la siguiente forma:"
   ]
  },
  {
   "cell_type": "code",
   "execution_count": 37,
   "metadata": {},
   "outputs": [
    {
     "data": {
      "text/plain": [
       "[<matplotlib.lines.Line2D at 0x22c7f82c2d0>]"
      ]
     },
     "execution_count": 37,
     "metadata": {},
     "output_type": "execute_result"
    },
    {
     "data": {
      "image/png": "[encoded data removed]",
      "text/plain": [
       "<Figure size 640x480 with 1 Axes>"
      ]
     },
     "metadata": {},
     "output_type": "display_data"
    }
   ],
   "source": [
    "plt.plot(X, Y, \".\")"
   ]
  },
  {
   "cell_type": "markdown",
   "metadata": {},
   "source": [
    "Y finalmente, hagamos algunas configuraciones simples para agregar títulos, nombres en los ejes y cosas por el estilo:"
   ]
  },
  {
   "cell_type": "code",
   "execution_count": 39,
   "metadata": {},
   "outputs": [
    {
     "data": {
      "image/png": "[encoded data removed]",
      "text/plain": [
       "<Figure size 640x480 with 1 Axes>"
      ]
     },
     "metadata": {},
     "output_type": "display_data"
    }
   ],
   "source": [
    "plt.plot(X, Y, \".\")\n",
    "plt.title(\"Función $f(x) = x^2$ para $x \\in [0, 1]$\")\n",
    "plt.xlabel(\"$x$\")\n",
    "plt.ylabel(\"$f(x)$\")\n",
    "plt.show()"
   ]
  },
  {
   "cell_type": "markdown",
   "metadata": {},
   "source": [
    "Y si eres el tipo de persona a quien le gustan los modos oscuros, también se puede:"
   ]
  },
  {
   "cell_type": "code",
   "execution_count": 40,
   "metadata": {},
   "outputs": [
    {
     "data": {
      "image/png": "[encoded data removed]",
      "text/plain": [
       "<Figure size 640x480 with 1 Axes>"
      ]
     },
     "metadata": {},
     "output_type": "display_data"
    }
   ],
   "source": [
    "plt.style.use('dark_background')  # Añadir esto para activar el estilo\n",
    "\n",
    "plt.plot(X, Y, \".\")\n",
    "plt.title(\"Función $f(x) = x^2$ para $x \\in [0, 1]$\")\n",
    "plt.xlabel(\"$x$\")\n",
    "plt.ylabel(\"$f(x)$\")\n",
    "plt.show()"
   ]
  },
  {
   "cell_type": "markdown",
   "metadata": {},
   "source": [
    "Ver [aquí](https://matplotlib.org/stable/gallery/style_sheets/style_sheets_reference.html) para una galería de `matplotlib` con varios estilos."
   ]
  }
 ],
 "metadata": {
  "kernelspec": {
   "display_name": "Python 3",
   "language": "python",
   "name": "python3"
  },
  "language_info": {
   "codemirror_mode": {
    "name": "ipython",
    "version": 3
   },
   "file_extension": ".py",
   "mimetype": "text/x-python",
   "name": "python",
   "nbconvert_exporter": "python",
   "pygments_lexer": "ipython3",
   "version": "3.11.6"
  }
 },
 "nbformat": 4,
 "nbformat_minor": 2
}
