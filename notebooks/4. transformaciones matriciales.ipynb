{
 "cells": [
  {
   "cell_type": "markdown",
   "metadata": {},
   "source": [
    "# Transformaciones matriciales en Python\n",
    "\n",
    "*Matrices y Machine Learning: Sesión 2.1*\n",
    "\n",
    "Hasta el momento, definimos una operación nueva que es el *producto matriz-vector*, pero cada vez que definimos una operación, deberíamos hacernos una intuición de cómo se comporta, al menos en los escenarios más simples. Ese es el objetivo de este notebook: Darnos una sensación del alcance que tienen las matrices al actuar sobre los vectores. Para esto, primero partamos entendiendo cómo graficar vectores en `python`.\n",
    "\n"
   ]
  },
  {
   "cell_type": "code",
   "execution_count": 1,
   "metadata": {},
   "outputs": [],
   "source": [
    "from matplotlib import pyplot as plt\n",
    "import numpy as np"
   ]
  },
  {
   "cell_type": "markdown",
   "metadata": {},
   "source": [
    "## 1. Graficar vectores utilizando `matplotlib`\n",
    "\n",
    "En otros notebooks he dado referencias a la librería que vamos a utilizar para hacer nuestros gráficos, por ahora, señalo que la función importante que utilizaremos será `plt.arrow(tail_x, tail_y, head_x, head_y)` para graficar las *flechas* que representarán a nuestros vectores.\n",
    "\n",
    "La siguiente función `plot_vectors(vectors, color='blue')` recibe una lista de `python` cuyos elementos son vectores y los grafica. Te preguntarás *¿Y qué son los vectores en `python`?* La respuesta a eso la hablaremos en la siguiente sección, por ahora nota que lo único que hace la función con los elementos de la lista que recibe es acceder a sus dos elementos `vec[0]` y `vec[1]`, por lo que es razonable imaginarnos algo como\n",
    "$$\\text{\\texttt{vec}} = \\begin{pmatrix} x \\\\ y \\end{pmatrix}$$"
   ]
  },
  {
   "cell_type": "code",
   "execution_count": 2,
   "metadata": {},
   "outputs": [],
   "source": [
    "def plot_vectors(vectors, color='blue'):\n",
    "    \"\"\"Grafica los vectores entregados\n",
    "\n",
    "    Args:\n",
    "        vectors (list): Lista que contiene los vectores a graficar\n",
    "        color (str, optional): Color a asignarle a los vectores. Defaults to 'blue'.\n",
    "    \"\"\"\n",
    "    for vec in vectors:\n",
    "        plt.arrow(0, 0, vec[0], vec[1], head_width=0.1, head_length=0.1, fc=color, ec=color)"
   ]
  },
  {
   "cell_type": "markdown",
   "metadata": {},
   "source": [
    "Pongamos esta función a prueba con un par de vectores de muestra:"
   ]
  },
  {
   "cell_type": "code",
   "execution_count": 7,
   "metadata": {},
   "outputs": [
    {
     "data": {
      "image/png": "[encoded data removed]",
      "text/plain": [
       "<Figure size 640x480 with 1 Axes>"
      ]
     },
     "metadata": {},
     "output_type": "display_data"
    }
   ],
   "source": [
    "vectors = [\n",
    "    [ 1,  2],  # vector 1\n",
    "    [ 2,  1],  # vector 2\n",
    "    [-2, -2]   # vector 3\n",
    "]\n",
    "# Nota. Aquí no estoy haciendo nada fancy para implementar los vectores. Son solo listas con sus dos coordenadas, la forma más real la discutiremos en la siguiente sección.\n",
    "\n",
    "plot_vectors(vectors, color='blue')\n",
    "plt.xlim(-3, 3)  # rango para el eje X\n",
    "plt.ylim(-3, 3)  # rango para el eje Y\n",
    "plt.grid()  # grilla para el gráfico. Si quieres quita esta línea y ve qué ocurre"
   ]
  },
  {
   "cell_type": "markdown",
   "metadata": {},
   "source": [
    "## 2. Matrices y vectores en `numpy`\n",
    "\n",
    "En `python` hay muchas librerías dedicadas a cubrir diferentes aspectos de la ingeniería y la computación científica, a continuación doy los primeros ejemplos que se me ocurren: [SymPy para álgebra y cálculo simbólico](https://www.sympy.org/en/index.html), [SciPy para algoritmos de optimización y estadística](https://scipy.org), [FEniCS para resolución numérica de ecuaciones diferenciales](https://fenicsproject.org) y [PyTorch para machine learning](https://pytorch.org). Algo que todas estas librerías tienen en común es que están construídas alrededor de [numpy](https://numpy.org), que es la principal (y en realidad única) librería numérica de `python` (ver [aquí](https://numpy.org/case-studies/blackhole-image/) un ejemplo interesante, entiendo que parte de esto se hizo en Chile). Es decir, si bien el lenguaje por si solo contiene la posibilidad de hacer cálculos simples, es `numpy` el que los puede realizar con un rendimiento comparable a lenguajes de programación más complejos, por lo que todas las librerías de `python` que hacen trabajo numérico serio están construidas alrededor de `numpy`. Y el objeto fundamental de `numpy` son sus vectores, o como ellos los llaman `arrays`.\n",
    "\n",
    "En su expresión más simple, un vector de `numpy` es una lista:"
   ]
  },
  {
   "cell_type": "code",
   "execution_count": 8,
   "metadata": {},
   "outputs": [],
   "source": [
    "x = np.array([1, 2, 3])"
   ]
  },
  {
   "cell_type": "markdown",
   "metadata": {},
   "source": [
    "Pero con la salvedad de que contrario a las listas de `python`, no se pueden extender:"
   ]
  },
  {
   "cell_type": "code",
   "execution_count": 9,
   "metadata": {},
   "outputs": [
    {
     "ename": "AttributeError",
     "evalue": "'numpy.ndarray' object has no attribute 'append'",
     "output_type": "error",
     "traceback": [
      "\u001b[1;31m---------------------------------------------------------------------------\u001b[0m",
      "\u001b[1;31mAttributeError\u001b[0m                            Traceback (most recent call last)",
      "Cell \u001b[1;32mIn[9], line 1\u001b[0m\n\u001b[1;32m----> 1\u001b[0m \u001b[43mx\u001b[49m\u001b[38;5;241;43m.\u001b[39;49m\u001b[43mappend\u001b[49m(\u001b[38;5;241m3\u001b[39m)\n",
      "\u001b[1;31mAttributeError\u001b[0m: 'numpy.ndarray' object has no attribute 'append'"
     ]
    }
   ],
   "source": [
    "x.append(3)"
   ]
  },
  {
   "cell_type": "markdown",
   "metadata": {},
   "source": [
    "Y están pensados para tener un solo tipo de dato:"
   ]
  },
  {
   "cell_type": "code",
   "execution_count": 12,
   "metadata": {},
   "outputs": [
    {
     "name": "stdout",
     "output_type": "stream",
     "text": [
      "['1' 'hola' '2']\n"
     ]
    }
   ],
   "source": [
    "x = np.array([1, \"hola\", 2])\n",
    "print(x)  # Notarás que convirtió los números en '1' y '2', en vez de dejarlos como números"
   ]
  },
  {
   "cell_type": "markdown",
   "metadata": {},
   "source": [
    "Esto podría parecer más restrictivo y por lo tanto menos útil, pero es precisamente lo que permite que los cálculos funcionen tan rápido. Es un intercambio de flexibilidad por rendimiento. Y de todos modos al operar con vectores nunca vamos a necesitar extenderlos ni trabajar con tipos de dato no numéricos, por lo que esa es flexibilidad que en este contexto se puede sacrificar.\n",
    "\n",
    "**ya pero... ¿Y las matrices?**\n",
    "\n",
    "Las matrices son listas de listas, en que sus entradas las estamos escribiendo por filas, como sigue:"
   ]
  },
  {
   "cell_type": "code",
   "execution_count": 14,
   "metadata": {},
   "outputs": [],
   "source": [
    "A = np.array([\n",
    "    [1, 0, 0],\n",
    "    [0, 2, 0],\n",
    "    [0, 0, 3]\n",
    "])"
   ]
  },
  {
   "cell_type": "markdown",
   "metadata": {},
   "source": [
    "Por lo que podemos definir un vector y hacer el producto matriz-vector con el operador `@`"
   ]
  },
  {
   "cell_type": "code",
   "execution_count": 16,
   "metadata": {},
   "outputs": [
    {
     "data": {
      "text/plain": [
       "array([1, 2, 3])"
      ]
     },
     "execution_count": 16,
     "metadata": {},
     "output_type": "execute_result"
    }
   ],
   "source": [
    "x = np.array([1, 1, 1])\n",
    "A @ x  # Da lo que esperamos que de (Verifica!).\n",
    "# Nota, también se puede hacer el mismo producto con A.dot(x) si prefieres."
   ]
  },
  {
   "cell_type": "markdown",
   "metadata": {},
   "source": [
    "También es posible acceder a las entradas, filas y columnas de una matriz con una notación muy similar a la que utilizamos en los apuntes:"
   ]
  },
  {
   "cell_type": "code",
   "execution_count": 18,
   "metadata": {},
   "outputs": [
    {
     "name": "stdout",
     "output_type": "stream",
     "text": [
      "2\n",
      "[0 2 0]\n",
      "[0 0 3]\n"
     ]
    }
   ],
   "source": [
    "print(A[1, 1])\n",
    "print(A[:, 1])\n",
    "print(A[2, :])"
   ]
  },
  {
   "cell_type": "markdown",
   "metadata": {},
   "source": [
    "Aquí te aconsejo experimentar lo que haga falta con estas funciones, quizá podrías verificar tus resultados de la tarea teórica con esto."
   ]
  },
  {
   "cell_type": "code",
   "execution_count": null,
   "metadata": {},
   "outputs": [],
   "source": [
    "## Celda para experimentar :)"
   ]
  },
  {
   "cell_type": "markdown",
   "metadata": {},
   "source": [
    "## 3. Grafiquemos lo que estamos haciendo\n",
    "\n",
    "Vamos a trabajar en $\\R^2$. Es decir, con solo vectores de dos dimensiones. Y vamos a definir la siguiente lista con vectores de prueba:"
   ]
  },
  {
   "cell_type": "code",
   "execution_count": 19,
   "metadata": {},
   "outputs": [],
   "source": [
    "vectors = [\n",
    "    np.array([ -2, -2]),\n",
    "    np.array([ -2, -1]),\n",
    "    np.array([ -2,  0]),\n",
    "    np.array([ -2,  1]),\n",
    "    np.array([ -2,  2]),\n",
    "    np.array([ -1, -2]),\n",
    "    np.array([ -1, -1]),\n",
    "    np.array([ -1,  0]),\n",
    "    np.array([ -1,  1]),\n",
    "    np.array([ -1,  2]),\n",
    "    np.array([  0, -2]),\n",
    "    np.array([  0, -1]),\n",
    "    np.array([  0,  0]),\n",
    "    np.array([  0,  1]),\n",
    "    np.array([  0,  2]),\n",
    "    np.array([  1, -2]),\n",
    "    np.array([  1, -1]),\n",
    "    np.array([  1,  0]),\n",
    "    np.array([  1,  1]),\n",
    "    np.array([  1,  2]),\n",
    "    np.array([  2, -2]),\n",
    "    np.array([  2, -1]),\n",
    "    np.array([  2,  0]),\n",
    "    np.array([  2,  1]),\n",
    "    np.array([  2,  2])\n",
    "]\n",
    "# Por supuesto que hay una forma más inteligente de hacer esto, pero la función quedaría difícil de entender."
   ]
  },
  {
   "cell_type": "markdown",
   "metadata": {},
   "source": [
    "Grafiquemos estos vectores:"
   ]
  },
  {
   "cell_type": "code",
   "execution_count": 20,
   "metadata": {},
   "outputs": [
    {
     "data": {
      "image/png": "[encoded data removed]",
      "text/plain": [
       "<Figure size 640x480 with 1 Axes>"
      ]
     },
     "metadata": {},
     "output_type": "display_data"
    }
   ],
   "source": [
    "plot_vectors(vectors, color='blue')\n",
    "plt.xlim(-3, 3)\n",
    "plt.ylim(-3, 3)\n",
    "plt.grid()"
   ]
  },
  {
   "cell_type": "markdown",
   "metadata": {},
   "source": [
    "**Ejercicio 1:** Consideremos la siguiente matriz:\n",
    "\n",
    "$$\\begin{pmatrix} 1 & 1 \\\\ 0 & 1 \\end{pmatrix}$$\n",
    "\n",
    "Nos interesa saber cómo esta matriz *transforma el espacio*, cosa que podemos entender a partir de aplicarla sobre los vectores y graficar el resultado. Haga eso a continuación y grafique en verde los vectores resultantes.\n",
    "\n",
    "*Nota:* No modifique la lista `vectors` ya que vamos a utilizar estos vectores varias veces. Se recomienda crear una lista nueva para almacenar los resultados."
   ]
  },
  {
   "cell_type": "code",
   "execution_count": 24,
   "metadata": {},
   "outputs": [],
   "source": [
    "# Código aquí."
   ]
  },
  {
   "cell_type": "markdown",
   "metadata": {},
   "source": [
    "**Ejercicio 2:** Dado $\\theta \\in \\R$, consideremos la siguiente matriz:\n",
    "\n",
    "$$\\begin{pmatrix} \\cos(\\theta) &  -\\sin(\\theta) \\\\ \\sin(\\theta) & \\cos(\\theta) \\end{pmatrix}$$\n",
    "\n",
    "Repita lo hecho anteriormente para esta matriz con los mismos vectores y para los valores $\\theta = \\frac{\\pi}{6}, \\frac{\\pi}{4}, \\frac{\\pi}{3}$.\n",
    "\n",
    "**Nota:** El número $\\pi$ está implementado en `numpy` como `np.pi`. Similarmente, las funciones trigonométricas están implementadas como `np.cos()` y `np.sin()`."
   ]
  },
  {
   "cell_type": "code",
   "execution_count": null,
   "metadata": {},
   "outputs": [],
   "source": [
    "# Código aquí."
   ]
  },
  {
   "cell_type": "markdown",
   "metadata": {},
   "source": [
    "**Ejercicio 3:** Experimente libremente con matrices de su elección y responda a la siguiente pregunta: *¿Qué propiedades geométricas parecen preservarse al aplicar una matriz sobre todo el espacio?* En busca de inspiración, le aconsejo utilizar matrices de este estilo:\n",
    "$$\\begin{pmatrix} a & 0 \\\\ 0 & b \\end{pmatrix}$$\n",
    "Sin dejar de lado casos como $a = 0$ para distintos valores de $b$ o viceversa. "
   ]
  }
 ],
 "metadata": {
  "kernelspec": {
   "display_name": "Python 3",
   "language": "python",
   "name": "python3"
  },
  "language_info": {
   "codemirror_mode": {
    "name": "ipython",
    "version": 3
   },
   "file_extension": ".py",
   "mimetype": "text/x-python",
   "name": "python",
   "nbconvert_exporter": "python",
   "pygments_lexer": "ipython3",
   "version": "3.11.6"
  }
 },
 "nbformat": 4,
 "nbformat_minor": 2
}
