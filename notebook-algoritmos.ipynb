{
 "cells": [
  {
   "cell_type": "markdown",
   "metadata": {},
   "source": [
    "# Optimización numérica en una variable\n",
    "\n",
    "*Matrices y Machine Learning: Sesión $13$*\n",
    "\n",
    "En este notebook, implementamos los dos métodos de optimización numérica más clásicos para funciones de una variable: El método de descenso y el método de Newton. Suponemos que tenemos una función $f: \\R \\to \\R$ al menos dos veces derivable y vamos a denotar por $x_0$ el punto inicial, $\\overline{x}$ el eventual mínimo local que buscamos alcanzar, y por $(x_k)_{k \\geq 1}$ la sucesión de puntos intermedios que nuestros métodos generen. Por supuesto nuestra expectativa es que\n",
    "$$\\lim_{k \\to \\infty} = \\overline{x}$$\n",
    "Como siempre, el método se basa en movernos según lo que indique la primera derivada de la función, por lo que la condición de parada va a ser que $f'(x_k)$ sea suficientemente pequeño, y vamos a estar siempre trabajando con un número de iteraciones máximo $N$, para que las implementaciones de los métodos no nos lleven a un ciclo infinito."
   ]
  },
  {
   "cell_type": "markdown",
   "metadata": {},
   "source": [
    "## 1. El método de descenso\n",
    "\n",
    "Dado un $\\alpha > 0$ fijo, la regla de actualización que usamos es la siguiente:\n",
    "\n",
    "$$x_{k+1} = x_k - \\alpha f'(x_k)$$\n",
    "\n",
    "A continuación, implementamos este método"
   ]
  },
  {
   "cell_type": "code",
   "execution_count": null,
   "metadata": {},
   "outputs": [],
   "source": [
    "function descentMethod(f, f_prime, x_0, alpha=1, N=100, epsilon=0.01)\n",
    "    ### continuar aquí\n",
    "end"
   ]
  },
  {
   "cell_type": "markdown",
   "metadata": {},
   "source": [
    "## 2. El método de Newton\n",
    "\n",
    "La regla de actualización del método de Newton es entonces la siguiente:\n",
    "\n",
    "$$x_{k+1} = x_k - \\frac{f'(x_k)}{f''(x_k)}$$\n",
    "\n",
    "En que antes debemos chequear que $f''(x_k)$ sea positivo, ya que de lo contrario nos estaremos acercando a un máximo local. A continuación, implementamos este método."
   ]
  },
  {
   "cell_type": "code",
   "execution_count": null,
   "metadata": {},
   "outputs": [],
   "source": [
    "function newtonMethod(f, f_prime, f_double_prime, x_0, alpha, N=100, epsilon=0.01)\n",
    "    ### continuar aquí\n",
    "end"
   ]
  },
  {
   "cell_type": "code",
   "execution_count": null,
   "metadata": {},
   "outputs": [],
   "source": []
  }
 ],
 "metadata": {
  "kernelspec": {
   "display_name": "Julia 1.9.3",
   "language": "julia",
   "name": "julia-1.9"
  },
  "language_info": {
   "file_extension": ".jl",
   "mimetype": "application/julia",
   "name": "julia",
   "version": "1.9.3"
  },
  "orig_nbformat": 4
 },
 "nbformat": 4,
 "nbformat_minor": 2
}
